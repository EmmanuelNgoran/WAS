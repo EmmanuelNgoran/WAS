{
 "cells": [
  {
   "cell_type": "code",
   "execution_count": 3,
   "metadata": {},
   "outputs": [],
   "source": [
    "# Importation des bibliothèques nécessaires\n",
    "import requests\n",
    "import pandas as pd\n"
   ]
  },
  {
   "cell_type": "code",
   "execution_count": 4,
   "metadata": {},
   "outputs": [
    {
     "name": "stdout",
     "output_type": "stream",
     "text": [
      "{'message': \"Bienvenue sur notre API de prédiction de la taille d'un enfant !\"}\n"
     ]
    }
   ],
   "source": [
    "\n",
    "# Base URL de l'API\n",
    "BASE_URL = \"http://127.0.0.1:8000\"\n",
    "\n",
    "# Tester la route d'accueil\n",
    "response = requests.get(f\"{BASE_URL}/\")\n",
    "print(response.json())\n"
   ]
  },
  {
   "cell_type": "code",
   "execution_count": 5,
   "metadata": {},
   "outputs": [
    {
     "data": {
      "text/html": [
       "<div>\n",
       "<style scoped>\n",
       "    .dataframe tbody tr th:only-of-type {\n",
       "        vertical-align: middle;\n",
       "    }\n",
       "\n",
       "    .dataframe tbody tr th {\n",
       "        vertical-align: top;\n",
       "    }\n",
       "\n",
       "    .dataframe thead th {\n",
       "        text-align: right;\n",
       "    }\n",
       "</style>\n",
       "<table border=\"1\" class=\"dataframe\">\n",
       "  <thead>\n",
       "    <tr style=\"text-align: right;\">\n",
       "      <th></th>\n",
       "      <th>prediction</th>\n",
       "      <th>valeurs_shap</th>\n",
       "    </tr>\n",
       "  </thead>\n",
       "  <tbody>\n",
       "    <tr>\n",
       "      <th>0</th>\n",
       "      <td>178.294538</td>\n",
       "      <td>[-1.7072437578046098, -2.0849310754420762]</td>\n",
       "    </tr>\n",
       "  </tbody>\n",
       "</table>\n",
       "</div>"
      ],
      "text/plain": [
       "   prediction                                valeurs_shap\n",
       "0  178.294538  [-1.7072437578046098, -2.0849310754420762]"
      ]
     },
     "metadata": {},
     "output_type": "display_data"
    }
   ],
   "source": [
    "\n",
    "# Tester la prédiction avec une entrée\n",
    "data_pred = {\n",
    "    \"taille_pere\": 170,\n",
    "    \"taille_mere\": 160\n",
    "}\n",
    "response = requests.post(f\"{BASE_URL}/predire/\", json=data_pred)\n",
    "df_pred = pd.DataFrame([response.json()])\n",
    "display(df_pred)\n"
   ]
  },
  {
   "cell_type": "code",
   "execution_count": 6,
   "metadata": {},
   "outputs": [
    {
     "data": {
      "text/html": [
       "<div>\n",
       "<style scoped>\n",
       "    .dataframe tbody tr th:only-of-type {\n",
       "        vertical-align: middle;\n",
       "    }\n",
       "\n",
       "    .dataframe tbody tr th {\n",
       "        vertical-align: top;\n",
       "    }\n",
       "\n",
       "    .dataframe thead th {\n",
       "        text-align: right;\n",
       "    }\n",
       "</style>\n",
       "<table border=\"1\" class=\"dataframe\">\n",
       "  <thead>\n",
       "    <tr style=\"text-align: right;\">\n",
       "      <th></th>\n",
       "      <th>noms_variables</th>\n",
       "      <th>coefficients</th>\n",
       "      <th>p_valeurs</th>\n",
       "      <th>significativite</th>\n",
       "    </tr>\n",
       "  </thead>\n",
       "  <tbody>\n",
       "    <tr>\n",
       "      <th>0</th>\n",
       "      <td>Intercept</td>\n",
       "      <td>42.061294</td>\n",
       "      <td>5.177307e-03</td>\n",
       "      <td>Significatif</td>\n",
       "    </tr>\n",
       "    <tr>\n",
       "      <th>1</th>\n",
       "      <td>taille_pere</td>\n",
       "      <td>0.426938</td>\n",
       "      <td>7.243874e-11</td>\n",
       "      <td>Significatif</td>\n",
       "    </tr>\n",
       "    <tr>\n",
       "      <th>2</th>\n",
       "      <td>taille_mere</td>\n",
       "      <td>0.397836</td>\n",
       "      <td>2.315991e-09</td>\n",
       "      <td>Significatif</td>\n",
       "    </tr>\n",
       "  </tbody>\n",
       "</table>\n",
       "</div>"
      ],
      "text/plain": [
       "  noms_variables  coefficients     p_valeurs significativite\n",
       "0      Intercept     42.061294  5.177307e-03    Significatif\n",
       "1    taille_pere      0.426938  7.243874e-11    Significatif\n",
       "2    taille_mere      0.397836  2.315991e-09    Significatif"
      ]
     },
     "metadata": {},
     "output_type": "display_data"
    },
    {
     "name": "stdout",
     "output_type": "stream",
     "text": [
      "R2: 0.468958290292545\n"
     ]
    }
   ],
   "source": [
    "\n",
    "# Obtenir les paramètres du modèle\n",
    "response_params = requests.get(BASE_URL + \"/parametres/\")\n",
    "data_params = response_params.json()\n",
    "df_params = pd.DataFrame({\n",
    "    \"noms_variables\": data_params[\"noms_variables\"],\n",
    "    \"coefficients\": data_params[\"coefficients\"],\n",
    "    \"p_valeurs\": data_params[\"p_valeurs\"],\n",
    "    \"significativite\": data_params[\"significativite\"]\n",
    "})\n",
    "display(df_params)\n",
    "print(f\"R2: {data_params['r2']}\")"
   ]
  },
  {
   "cell_type": "code",
   "execution_count": 7,
   "metadata": {},
   "outputs": [
    {
     "data": {
      "text/html": [
       "<div>\n",
       "<style scoped>\n",
       "    .dataframe tbody tr th:only-of-type {\n",
       "        vertical-align: middle;\n",
       "    }\n",
       "\n",
       "    .dataframe tbody tr th {\n",
       "        vertical-align: top;\n",
       "    }\n",
       "\n",
       "    .dataframe thead th {\n",
       "        text-align: right;\n",
       "    }\n",
       "</style>\n",
       "<table border=\"1\" class=\"dataframe\">\n",
       "  <thead>\n",
       "    <tr style=\"text-align: right;\">\n",
       "      <th></th>\n",
       "      <th>noms_variables</th>\n",
       "      <th>coefficients</th>\n",
       "      <th>p_valeurs</th>\n",
       "      <th>significativite</th>\n",
       "    </tr>\n",
       "  </thead>\n",
       "  <tbody>\n",
       "    <tr>\n",
       "      <th>0</th>\n",
       "      <td>Intercept</td>\n",
       "      <td>42.057273</td>\n",
       "      <td>6.328239e-03</td>\n",
       "      <td>Significatif</td>\n",
       "    </tr>\n",
       "    <tr>\n",
       "      <th>1</th>\n",
       "      <td>taille_pere</td>\n",
       "      <td>0.426899</td>\n",
       "      <td>1.552670e-10</td>\n",
       "      <td>Significatif</td>\n",
       "    </tr>\n",
       "    <tr>\n",
       "      <th>2</th>\n",
       "      <td>taille_mere</td>\n",
       "      <td>0.396848</td>\n",
       "      <td>4.878206e-09</td>\n",
       "      <td>Significatif</td>\n",
       "    </tr>\n",
       "  </tbody>\n",
       "</table>\n",
       "</div>"
      ],
      "text/plain": [
       "  noms_variables  coefficients     p_valeurs significativite\n",
       "0      Intercept     42.057273  6.328239e-03    Significatif\n",
       "1    taille_pere      0.426899  1.552670e-10    Significatif\n",
       "2    taille_mere      0.396848  4.878206e-09    Significatif"
      ]
     },
     "metadata": {},
     "output_type": "display_data"
    },
    {
     "name": "stdout",
     "output_type": "stream",
     "text": [
      "R2 mis à jour: 0.4512410639049236\n"
     ]
    }
   ],
   "source": [
    "# Ajouter de nouvelles données et mettre à jour le modèle\n",
    "data_ajout = {\n",
    "    \"taille_pere\": [178, 172],\n",
    "    \"taille_mere\": [162, 168],\n",
    "    \"taille_enfant\": [176, 170]\n",
    "}\n",
    "response_ajout = requests.post(BASE_URL + \"/ajouter_donnees/\", json=data_ajout)\n",
    "data_updated = response_ajout.json()[\"nouveaux_parametres\"]\n",
    "df_params_updated = pd.DataFrame({\n",
    "    \"noms_variables\": data_updated[\"noms_variables\"],\n",
    "    \"coefficients\": data_updated[\"coefficients\"],\n",
    "    \"p_valeurs\": data_updated[\"p_valeurs\"],\n",
    "    \"significativite\": data_updated[\"significativite\"]\n",
    "})\n",
    "display(df_params_updated)\n",
    "print(f\"R2 mis à jour: {data_updated['r2']}\")\n",
    "\n",
    "\n"
   ]
  },
  {
   "cell_type": "code",
   "execution_count": 8,
   "metadata": {},
   "outputs": [
    {
     "data": {
      "text/html": [
       "<div>\n",
       "<style scoped>\n",
       "    .dataframe tbody tr th:only-of-type {\n",
       "        vertical-align: middle;\n",
       "    }\n",
       "\n",
       "    .dataframe tbody tr th {\n",
       "        vertical-align: top;\n",
       "    }\n",
       "\n",
       "    .dataframe thead th {\n",
       "        text-align: right;\n",
       "    }\n",
       "</style>\n",
       "<table border=\"1\" class=\"dataframe\">\n",
       "  <thead>\n",
       "    <tr style=\"text-align: right;\">\n",
       "      <th></th>\n",
       "      <th>noms_variables</th>\n",
       "      <th>coefficients</th>\n",
       "      <th>p_valeurs</th>\n",
       "      <th>significativite</th>\n",
       "    </tr>\n",
       "  </thead>\n",
       "  <tbody>\n",
       "    <tr>\n",
       "      <th>0</th>\n",
       "      <td>Intercept</td>\n",
       "      <td>42.057273</td>\n",
       "      <td>6.328239e-03</td>\n",
       "      <td>Significatif</td>\n",
       "    </tr>\n",
       "    <tr>\n",
       "      <th>1</th>\n",
       "      <td>taille_pere</td>\n",
       "      <td>0.426899</td>\n",
       "      <td>1.552670e-10</td>\n",
       "      <td>Significatif</td>\n",
       "    </tr>\n",
       "    <tr>\n",
       "      <th>2</th>\n",
       "      <td>taille_mere</td>\n",
       "      <td>0.396848</td>\n",
       "      <td>4.878206e-09</td>\n",
       "      <td>Significatif</td>\n",
       "    </tr>\n",
       "  </tbody>\n",
       "</table>\n",
       "</div>"
      ],
      "text/plain": [
       "  noms_variables  coefficients     p_valeurs significativite\n",
       "0      Intercept     42.057273  6.328239e-03    Significatif\n",
       "1    taille_pere      0.426899  1.552670e-10    Significatif\n",
       "2    taille_mere      0.396848  4.878206e-09    Significatif"
      ]
     },
     "metadata": {},
     "output_type": "display_data"
    },
    {
     "name": "stdout",
     "output_type": "stream",
     "text": [
      "R2 après vérification: 0.4512410639049236\n"
     ]
    }
   ],
   "source": [
    "# Vérifier à nouveau les paramètres pour voir s'ils ont changé après avoir ajouté de nouvelles données\n",
    "response_recheck = requests.get(f\"{BASE_URL}/parametres/\")\n",
    "data_recheck = response_recheck.json()\n",
    "\n",
    "df_recheck = pd.DataFrame({\n",
    "    \"noms_variables\": data_recheck[\"noms_variables\"],\n",
    "    \"coefficients\": data_recheck[\"coefficients\"],\n",
    "    \"p_valeurs\": data_recheck[\"p_valeurs\"],\n",
    "    \"significativite\": data_recheck[\"significativite\"]\n",
    "})\n",
    "display(df_recheck)\n",
    "print(f\"R2 après vérification: {data_recheck['r2']}\")\n"
   ]
  }
 ],
 "metadata": {
  "kernelspec": {
   "display_name": "boost",
   "language": "python",
   "name": "python3"
  },
  "language_info": {
   "codemirror_mode": {
    "name": "ipython",
    "version": 3
   },
   "file_extension": ".py",
   "mimetype": "text/x-python",
   "name": "python",
   "nbconvert_exporter": "python",
   "pygments_lexer": "ipython3",
   "version": "3.11.3"
  },
  "orig_nbformat": 4
 },
 "nbformat": 4,
 "nbformat_minor": 2
}
